{
 "cells": [
  {
   "cell_type": "code",
   "execution_count": 118,
   "metadata": {},
   "outputs": [
    {
     "data": {
      "text/plain": [
       "'ano\\\\002a2ca4bc4c77cc1b9d4dc71989b4b2-asset.json'"
      ]
     },
     "execution_count": 118,
     "metadata": {},
     "output_type": "execute_result"
    }
   ],
   "source": [
    "import json\n",
    "import glob\n",
    "import re\n",
    "import os\n",
    "\n",
    "files = glob.glob('ano/*.json')\n",
    "file=files[0]\n",
    "file"
   ]
  },
  {
   "cell_type": "code",
   "execution_count": 121,
   "metadata": {
    "scrolled": true
   },
   "outputs": [
    {
     "data": {
      "text/plain": [
       "{'asset': {'format': 'jpg',\n",
       "  'id': '002a2ca4bc4c77cc1b9d4dc71989b4b2',\n",
       "  'name': '20201029060201675_276.jpg',\n",
       "  'path': 'file:C:/Users/rikako.DESKTOP-ADUSTDN/Documents/wearselect/20201029060201675_276.jpg',\n",
       "  'size': {'width': 276, 'height': 368},\n",
       "  'state': 2,\n",
       "  'type': 1},\n",
       " 'regions': [{'id': '71d5GXH4d',\n",
       "   'type': 'RECTANGLE',\n",
       "   'tags': ['natural'],\n",
       "   'boundingBox': {'height': 304.3809640066964,\n",
       "    'width': 108.19046456473214,\n",
       "    'left': 114.19049944196428,\n",
       "    'top': 58.285714285714285},\n",
       "   'points': [{'x': 114.19049944196428, 'y': 58.285714285714285},\n",
       "    {'x': 222.38096400669642, 'y': 58.285714285714285},\n",
       "    {'x': 222.38096400669642, 'y': 362.6666782924107},\n",
       "    {'x': 114.19049944196428, 'y': 362.6666782924107}]}],\n",
       " 'version': '2.2.0'}"
      ]
     },
     "execution_count": 121,
     "metadata": {},
     "output_type": "execute_result"
    }
   ],
   "source": [
    "ano_json=open(file,'r')\n",
    "ano= json.load(ano_json) \n",
    "ano"
   ]
  },
  {
   "cell_type": "code",
   "execution_count": 122,
   "metadata": {},
   "outputs": [
    {
     "data": {
      "text/plain": [
       "dict_keys(['asset', 'regions', 'version'])"
      ]
     },
     "execution_count": 122,
     "metadata": {},
     "output_type": "execute_result"
    }
   ],
   "source": [
    "ano.keys()"
   ]
  },
  {
   "cell_type": "code",
   "execution_count": 124,
   "metadata": {},
   "outputs": [
    {
     "data": {
      "text/plain": [
       "dict_keys(['format', 'id', 'name', 'path', 'size', 'state', 'type'])"
      ]
     },
     "execution_count": 124,
     "metadata": {},
     "output_type": "execute_result"
    }
   ],
   "source": [
    "ano['asset'].keys()"
   ]
  },
  {
   "cell_type": "code",
   "execution_count": 125,
   "metadata": {},
   "outputs": [
    {
     "data": {
      "text/plain": [
       "'20201029060201675_276.jpg'"
      ]
     },
     "execution_count": 125,
     "metadata": {},
     "output_type": "execute_result"
    }
   ],
   "source": [
    "ano['asset']['name']"
   ]
  },
  {
   "cell_type": "code",
   "execution_count": null,
   "metadata": {},
   "outputs": [],
   "source": []
  },
  {
   "cell_type": "code",
   "execution_count": null,
   "metadata": {},
   "outputs": [],
   "source": []
  },
  {
   "cell_type": "code",
   "execution_count": 114,
   "metadata": {},
   "outputs": [],
   "source": [
    "import json\n",
    "import glob\n",
    "import re\n",
    "import os\n",
    "\n",
    "files = glob.glob('ano/*.json')\n",
    "\n",
    "for file in files:\n",
    "    \n",
    "    ano_json=open(file,'r')\n",
    "    ano= json.load(ano_json) \n",
    "    \n",
    "    target_name=ano['asset']['name']\n",
    "    target_file=\"ano2/\"+target_name[:-3]+'txt'\n",
    "\n",
    "\n",
    "    label=ano['regions'][0]['tags'][0]\n",
    "    num=0\n",
    "    if label=='NA':\n",
    "        num=3\n",
    "    elif label=='straight':\n",
    "        num=0\n",
    "    elif label=='natural':\n",
    "        num=2\n",
    "    elif label=='wave':\n",
    "        \n",
    "        num=1\n",
    "    else:\n",
    "        num=4\n",
    "\n",
    "    width=ano['asset']['size']['width']\n",
    "    height=ano['asset']['size']['height']\n",
    "    h=ano['regions'][0]['boundingBox']['height']\n",
    "    w=ano['regions'][0]['boundingBox']['width']\n",
    "    x=ano['regions'][0]['boundingBox']['left']\n",
    "    y=ano['regions'][0]['boundingBox']['top']\n",
    "    s=str(num)+\" \"+str(round(x/width,4))+\" \"+str(round(y/height,4))+\\\n",
    "    \" \"+str(round(w/width,4))+\" \"+str(round(h/height,4))+\"\\n\"\n",
    "    \n",
    "    with open(target_file, mode='w') as f:\n",
    "        f.write(s)\n",
    "    f.close()\n"
   ]
  },
  {
   "cell_type": "code",
   "execution_count": null,
   "metadata": {},
   "outputs": [],
   "source": []
  }
 ],
 "metadata": {
  "kernelspec": {
   "display_name": "Python 3",
   "language": "python",
   "name": "python3"
  },
  "language_info": {
   "codemirror_mode": {
    "name": "ipython",
    "version": 3
   },
   "file_extension": ".py",
   "mimetype": "text/x-python",
   "name": "python",
   "nbconvert_exporter": "python",
   "pygments_lexer": "ipython3",
   "version": "3.6.7"
  }
 },
 "nbformat": 4,
 "nbformat_minor": 4
}
